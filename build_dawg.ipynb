{
 "cells": [
  {
   "cell_type": "code",
   "execution_count": 1,
   "metadata": {},
   "outputs": [],
   "source": [
    "import pandas as pd\n",
    "import numpy as np\n",
    "from dawg_object import Dawg\n",
    "import time\n",
    "import sys"
   ]
  },
  {
   "cell_type": "code",
   "execution_count": 2,
   "metadata": {
    "scrolled": true
   },
   "outputs": [],
   "source": [
    "df = pd.DataFrame({\"word\": pd.read_fwf('raw_words.txt')[\"AA\"].tolist()})\n",
    "words = df[\"word\"].astype('str').tolist()"
   ]
  },
  {
   "cell_type": "code",
   "execution_count": 13,
   "metadata": {},
   "outputs": [
    {
     "name": "stdout",
     "output_type": "stream",
     "text": [
      "Dawg creation took 3.62134 s\n",
      "Read 279495 words into 81595 nodes and 194901 edges\n",
      "This could be stored in as little as 779604 bytes\n"
     ]
    }
   ],
   "source": [
    "dawg = Dawg()\n",
    "WordCount = 0\n",
    "words.sort()\n",
    "start = time.time()    \n",
    "for word in words:\n",
    "    WordCount += 1\n",
    "    dawg.insert(word)\n",
    "#     if ( WordCount % 100 ) == 0: print \"%dr\" % WordCount,\n",
    "dawg.finish()\n",
    "print(\"Dawg creation took %g s\" % (time.time()-start))  \n",
    "\n",
    "EdgeCount = dawg.edgeCount()\n",
    "print(\"Read %d words into %d nodes and %d edges\" % ( WordCount,dawg.nodeCount(), EdgeCount ))\n",
    "print(\"This could be stored in as little as %d bytes\" % (EdgeCount * 4))"
   ]
  },
  {
   "cell_type": "code",
   "execution_count": 23,
   "metadata": {},
   "outputs": [],
   "source": [
    "for word in words:\n",
    "    if not dawg.lookup(word):\n",
    "        print(\"Error\")\n",
    "        break"
   ]
  },
  {
   "cell_type": "code",
   "execution_count": 15,
   "metadata": {},
   "outputs": [
    {
     "data": {
      "text/plain": [
       "\"{'H': <dawg_node.DawgNode object at 0x0000025CC66F6790>, 'L': <dawg_node.DawgNode object at 0x0000025CC66F64C0>, 'R': <dawg_node.DawgNode object at 0x0000025CC6233AC0>, 'S': <dawg_node.DawgNode object at 0x0000025CAE2AD610>}\""
      ]
     },
     "execution_count": 15,
     "metadata": {},
     "output_type": "execute_result"
    }
   ],
   "source": [
    "curr = dawg.root.edges[\"A\"]\n",
    "str(curr.edges)\n",
    "n = curr.edges[\"A\"]\n",
    "str(n.edges)"
   ]
  },
  {
   "cell_type": "code",
   "execution_count": 17,
   "metadata": {},
   "outputs": [
    {
     "data": {
      "text/plain": [
       "True"
      ]
     },
     "execution_count": 17,
     "metadata": {},
     "output_type": "execute_result"
    }
   ],
   "source": [
    "dawg.root.edges[\"A\"].edges[\"A\"].edges[\"H\"].final"
   ]
  },
  {
   "cell_type": "code",
   "execution_count": 19,
   "metadata": {},
   "outputs": [
    {
     "data": {
      "text/plain": [
       "48"
      ]
     },
     "execution_count": 19,
     "metadata": {},
     "output_type": "execute_result"
    }
   ],
   "source": [
    "sys.getsizeof(dawg)"
   ]
  }
 ],
 "metadata": {
  "kernelspec": {
   "display_name": "Python 3",
   "language": "python",
   "name": "python3"
  },
  "language_info": {
   "codemirror_mode": {
    "name": "ipython",
    "version": 3
   },
   "file_extension": ".py",
   "mimetype": "text/x-python",
   "name": "python",
   "nbconvert_exporter": "python",
   "pygments_lexer": "ipython3",
   "version": "3.8.2"
  }
 },
 "nbformat": 4,
 "nbformat_minor": 4
}
